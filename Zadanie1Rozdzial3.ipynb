{
  "nbformat": 4,
  "nbformat_minor": 0,
  "metadata": {
    "colab": {
      "provenance": []
    },
    "kernelspec": {
      "name": "python3",
      "display_name": "Python 3"
    },
    "language_info": {
      "name": "python"
    }
  },
  "cells": [
    {
      "cell_type": "code",
      "execution_count": 4,
      "metadata": {
        "colab": {
          "base_uri": "https://localhost:8080/"
        },
        "id": "D99_uYdFZtNt",
        "outputId": "c99b5f2b-a1f6-42c3-c13d-5df58c3ff8d4"
      },
      "outputs": [
        {
          "output_type": "stream",
          "name": "stdout",
          "text": [
            "1/1 [==============================] - 0s 69ms/step\n",
            "[[0.50501245]\n",
            " [0.53572977]\n",
            " [0.46996292]\n",
            " [0.48120672]]\n",
            "OR Function Predictions:\n",
            "1/1 [==============================] - 0s 55ms/step\n",
            "[[0.39655912]\n",
            " [0.90903974]\n",
            " [0.87679154]\n",
            " [0.9743619 ]]\n"
          ]
        },
        {
          "output_type": "stream",
          "name": "stderr",
          "text": [
            "WARNING:tensorflow:5 out of the last 5 calls to <function Model.make_predict_function.<locals>.predict_function at 0x7d62f6b0dfc0> triggered tf.function retracing. Tracing is expensive and the excessive number of tracings could be due to (1) creating @tf.function repeatedly in a loop, (2) passing tensors with different shapes, (3) passing Python objects instead of tensors. For (1), please define your @tf.function outside of the loop. For (2), @tf.function has reduce_retracing=True option that can avoid unnecessary retracing. For (3), please refer to https://www.tensorflow.org/guide/function#controlling_retracing and https://www.tensorflow.org/api_docs/python/tf/function for  more details.\n"
          ]
        },
        {
          "output_type": "stream",
          "name": "stdout",
          "text": [
            "\n",
            "OR Function Predictions (Second Architecture):\n",
            "1/1 [==============================] - 0s 59ms/step\n",
            "[[0.37605637]\n",
            " [0.81675386]\n",
            " [0.9548992 ]\n",
            " [0.973852  ]]\n",
            "1/1 [==============================] - 0s 21ms/step\n",
            "[[0.37605637]\n",
            " [0.81675386]\n",
            " [0.9548992 ]\n",
            " [0.973852  ]]\n"
          ]
        }
      ],
      "source": [
        "from keras.models import Sequential\n",
        "from keras.layers import *\n",
        "import numpy as np\n",
        "\n",
        "m = Sequential()\n",
        "m.add(Dense(2,input_dim=2, activation='tanh'))\n",
        "m.add(Dense(12,input_dim=2, activation='tanh'))\n",
        "#m.add(Activation('tanh'))\n",
        "\n",
        "m.add(Dense(1,activation='sigmoid'))\n",
        "\n",
        "#m.add(Activation('sigmoid'))\n",
        "\n",
        "X = np.array([[0,0],[0,1],[1,0],[1,1]],'float32')\n",
        "Y = np.array([[0],[1],[1],[0]],'float32')\n",
        "\n",
        "m.compile(optimizer='adam',loss='binary_crossentropy')\n",
        "m.fit(X,Y,batch_size=1,epochs=200,verbose=0)\n",
        "print(m.predict(X))\n",
        "\n",
        "# OR function\n",
        "X_or = np.array([[0,0],[0,1],[1,0],[1,1]], 'float32')\n",
        "Y_or = np.array([[0],[1],[1],[1]], 'float32')\n",
        "\n",
        "# Rest of the code...\n",
        "\n",
        "# First architecture\n",
        "model1 = Sequential()\n",
        "model1.add(Dense(2, input_dim=2, activation='tanh'))\n",
        "model1.add(Dense(12, activation='tanh'))\n",
        "model1.add(Dense(1, activation='sigmoid'))\n",
        "model1.compile(optimizer='adam', loss='binary_crossentropy')\n",
        "model1.fit(X_or, Y_or, batch_size=1, epochs=200, verbose=0)\n",
        "print(\"OR Function Predictions:\")\n",
        "print(model1.predict(X_or))\n",
        "\n",
        "# Second architecture\n",
        "model2 = Sequential()\n",
        "model2.add(Dense(4, input_dim=2, activation='tanh'))\n",
        "model2.add(Dense(8, activation='tanh'))\n",
        "model2.add(Dense(1, activation='sigmoid'))\n",
        "model2.compile(optimizer='adam', loss='binary_crossentropy')\n",
        "model2.fit(X_or, Y_or, batch_size=1, epochs=200, verbose=0)\n",
        "print(\"\\nOR Function Predictions (Second Architecture):\")\n",
        "print(model2.predict(X_or))\n",
        "print(model2.predict(X_or))\n",
        "\n"
      ]
    }
  ]
}